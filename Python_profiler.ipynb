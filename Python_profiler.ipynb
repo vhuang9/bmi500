{
 "cells": [
  {
   "cell_type": "code",
   "execution_count": 5,
   "metadata": {},
   "outputs": [],
   "source": [
    "import numpy as np\n",
    "import matplotlib.pyplot as plt"
   ]
  },
  {
   "cell_type": "code",
   "execution_count": 6,
   "metadata": {},
   "outputs": [],
   "source": [
    "%load_ext snakeviz"
   ]
  },
  {
   "cell_type": "code",
   "execution_count": 7,
   "metadata": {},
   "outputs": [],
   "source": [
    "def leibniz1(n):\n",
    "    leibSum = 0\n",
    "    for k in range(n):\n",
    "        leibSum += (-1)**k/(2*k+1)\n",
    "    return leibSum*4\n",
    "\n",
    "def main():\n",
    "    print(leibniz1(8))"
   ]
  },
  {
   "cell_type": "code",
   "execution_count": 8,
   "metadata": {},
   "outputs": [
    {
     "name": "stdout",
     "output_type": "stream",
     "text": [
      "         48 function calls in 0.000 seconds\n",
      "\n",
      "   Ordered by: cumulative time\n",
      "\n",
      "   ncalls  tottime  percall  cumtime  percall filename:lineno(function)\n",
      "        2    0.000    0.000    0.000    0.000 C:\\Users\\Vicki\\.conda\\envs\\bmi\\lib\\codeop.py:132(__call__)\n",
      "        2    0.000    0.000    0.000    0.000 C:\\Users\\Vicki\\.conda\\envs\\bmi\\lib\\site-packages\\IPython\\core\\interactiveshell.py:3302(run_code)\n",
      "        2    0.000    0.000    0.000    0.000 {built-in method builtins.compile}\n",
      "        2    0.000    0.000    0.000    0.000 {built-in method builtins.exec}\n",
      "        1    0.000    0.000    0.000    0.000 <ipython-input-8-02d93d987f0c>:5(<module>)\n",
      "        1    0.000    0.000    0.000    0.000 <ipython-input-7-138adb34dad0>:1(leibniz1)\n",
      "        2    0.000    0.000    0.000    0.000 C:\\Users\\Vicki\\.conda\\envs\\bmi\\lib\\contextlib.py:157(helper)\n",
      "        4    0.000    0.000    0.000    0.000 {built-in method builtins.next}\n",
      "        2    0.000    0.000    0.000    0.000 C:\\Users\\Vicki\\.conda\\envs\\bmi\\lib\\contextlib.py:79(__enter__)\n",
      "        2    0.000    0.000    0.000    0.000 C:\\Users\\Vicki\\.conda\\envs\\bmi\\lib\\contextlib.py:85(__exit__)\n",
      "        1    0.000    0.000    0.000    0.000 <ipython-input-8-02d93d987f0c>:6(<module>)\n",
      "        2    0.000    0.000    0.000    0.000 C:\\Users\\Vicki\\.conda\\envs\\bmi\\lib\\contextlib.py:59(__init__)\n",
      "        4    0.000    0.000    0.000    0.000 {built-in method builtins.getattr}\n",
      "        4    0.000    0.000    0.000    0.000 C:\\Users\\Vicki\\.conda\\envs\\bmi\\lib\\site-packages\\IPython\\core\\compilerop.py:138(extra_flags)\n",
      "        2    0.000    0.000    0.000    0.000 C:\\Users\\Vicki\\.conda\\envs\\bmi\\lib\\site-packages\\traitlets\\traitlets.py:545(__get__)\n",
      "        2    0.000    0.000    0.000    0.000 C:\\Users\\Vicki\\.conda\\envs\\bmi\\lib\\site-packages\\IPython\\core\\hooks.py:103(__call__)\n",
      "        2    0.000    0.000    0.000    0.000 C:\\Users\\Vicki\\.conda\\envs\\bmi\\lib\\site-packages\\IPython\\core\\interactiveshell.py:117(<lambda>)\n",
      "        2    0.000    0.000    0.000    0.000 C:\\Users\\Vicki\\.conda\\envs\\bmi\\lib\\site-packages\\IPython\\utils\\ipstruct.py:125(__getattr__)\n",
      "        2    0.000    0.000    0.000    0.000 C:\\Users\\Vicki\\.conda\\envs\\bmi\\lib\\site-packages\\traitlets\\traitlets.py:526(get)\n",
      "        2    0.000    0.000    0.000    0.000 C:\\Users\\Vicki\\.conda\\envs\\bmi\\lib\\site-packages\\IPython\\core\\interactiveshell.py:1276(user_global_ns)\n",
      "        1    0.000    0.000    0.000    0.000 {method 'disable' of '_lsprof.Profiler' objects}\n",
      "        2    0.000    0.000    0.000    0.000 C:\\Users\\Vicki\\.conda\\envs\\bmi\\lib\\site-packages\\IPython\\core\\interactiveshell.py:3244(compare)\n",
      "        2    0.000    0.000    0.000    0.000 C:\\Users\\Vicki\\.conda\\envs\\bmi\\lib\\site-packages\\IPython\\core\\hooks.py:168(pre_run_code_hook)\n",
      "\n",
      "\n"
     ]
    }
   ],
   "source": [
    "import cProfile, pstats\n",
    "\n",
    "profiler = cProfile.Profile()\n",
    "profiler.enable()\n",
    "leibniz1(8)\n",
    "profiler.disable()\n",
    "stats = pstats.Stats(profiler).sort_stats('cumtime')\n",
    "stats.print_stats()\n",
    "\n",
    "# cProfile.run('leibniz1(8)')\n",
    "\n",
    "\n",
    "stats.dump_stats('C:/Users/Vicki/OneDrive - Emory University/Class/BMI 500/data')"
   ]
  },
  {
   "cell_type": "code",
   "execution_count": 9,
   "metadata": {},
   "outputs": [
    {
     "name": "stdout",
     "output_type": "stream",
     "text": [
      "3.017071817071818\n",
      " \n",
      "*** Profile stats marshalled to file 'C:\\\\Users\\\\Vicki\\\\AppData\\\\Local\\\\Temp\\\\tmpe0s46f5k'. \n",
      "Embedding SnakeViz in this document...\n"
     ]
    },
    {
     "data": {
      "text/html": [
       "\n",
       "<iframe id='snakeviz-c8c2e99c-0f3a-11ec-bbb6-5c5f67a13c85' frameborder=0 seamless width='100%' height='1000'></iframe>\n",
       "<script>document.getElementById(\"snakeviz-c8c2e99c-0f3a-11ec-bbb6-5c5f67a13c85\").setAttribute(\"src\", \"http://\" + document.location.hostname + \":8080/snakeviz/C%3A%5CUsers%5CVicki%5CAppData%5CLocal%5CTemp%5Ctmpe0s46f5k\")</script>\n"
      ],
      "text/plain": [
       "<IPython.core.display.HTML object>"
      ]
     },
     "metadata": {},
     "output_type": "display_data"
    }
   ],
   "source": [
    "%snakeviz main()"
   ]
  },
  {
   "cell_type": "code",
   "execution_count": null,
   "metadata": {},
   "outputs": [],
   "source": []
  }
 ],
 "metadata": {
  "kernelspec": {
   "display_name": "Python 3",
   "language": "python",
   "name": "python3"
  },
  "language_info": {
   "codemirror_mode": {
    "name": "ipython",
    "version": 3
   },
   "file_extension": ".py",
   "mimetype": "text/x-python",
   "name": "python",
   "nbconvert_exporter": "python",
   "pygments_lexer": "ipython3",
   "version": "3.6.10"
  }
 },
 "nbformat": 4,
 "nbformat_minor": 4
}
